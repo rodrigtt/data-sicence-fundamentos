{
  "nbformat": 4,
  "nbformat_minor": 0,
  "metadata": {
    "colab": {
      "name": "SVR Regression and DecisionTree Regression",
      "provenance": [],
      "collapsed_sections": []
    },
    "kernelspec": {
      "name": "python3",
      "display_name": "Python 3"
    },
    "language_info": {
      "name": "python"
    }
  },
  "cells": [
    {
      "cell_type": "markdown",
      "source": [
        "#### Imports"
      ],
      "metadata": {
        "id": "bAr71gKj-EzM"
      }
    },
    {
      "cell_type": "code",
      "source": [
        "# Libs Básicas\n",
        "import numpy as np\n",
        "import matplotlib.pyplot as plt\n",
        "import pandas as pd"
      ],
      "metadata": {
        "id": "Zt75-H1s-IBc"
      },
      "execution_count": null,
      "outputs": []
    },
    {
      "cell_type": "code",
      "source": [
        "# Libs Sklearn\n",
        "from sklearn.model_selection import train_test_split\n",
        "from sklearn.svm import SVR\n",
        "\n",
        "#Import the DecisionTree\n",
        "from sklearn.tree import DecisionTreeRegressor"
      ],
      "metadata": {
        "id": "hSYFRG-a-awa"
      },
      "execution_count": null,
      "outputs": []
    },
    {
      "cell_type": "code",
      "source": [
        "#Metrics\n",
        "# https://scikit-learn.org/stable/modules/model_evaluation.html\n",
        "from sklearn.metrics import mean_squared_error as mse"
      ],
      "metadata": {
        "id": "xzQKZXxmFeZ3"
      },
      "execution_count": null,
      "outputs": []
    },
    {
      "cell_type": "markdown",
      "source": [
        "#### Functions"
      ],
      "metadata": {
        "id": "PTB7haVE-IqC"
      }
    },
    {
      "cell_type": "code",
      "source": [
        ""
      ],
      "metadata": {
        "id": "Szd4v8SZ-KLd"
      },
      "execution_count": null,
      "outputs": []
    },
    {
      "cell_type": "markdown",
      "source": [
        "#### Data"
      ],
      "metadata": {
        "id": "KP-5NG5O-Kke"
      }
    },
    {
      "cell_type": "code",
      "source": [
        "# importando os dados para o Jupyter Notebook\n",
        "df = pd.read_csv(\"/content/df_sem_out.csv\")"
      ],
      "metadata": {
        "id": "dxFyhnEB-L3x"
      },
      "execution_count": null,
      "outputs": []
    },
    {
      "cell_type": "code",
      "execution_count": null,
      "metadata": {
        "id": "KhDTwBX3DdB_",
        "colab": {
          "base_uri": "https://localhost:8080/",
          "height": 206
        },
        "outputId": "a7813bd7-3468-41f7-e3c7-d354f34a3c42"
      },
      "outputs": [
        {
          "output_type": "execute_result",
          "data": {
            "text/plain": [
              "   Unnamed: 0  BEDROOMS  BATHROOMS  GARAGE  NEAREST_SCH_DIST  BUILD_YEAR  \\\n",
              "0           0         4          2     2.0          0.828339      2003.0   \n",
              "1           1         3          2     2.0          5.524324      2013.0   \n",
              "2           2         3          1     1.0          1.649178      1979.0   \n",
              "3           3         2          1     2.0          1.571401      1953.0   \n",
              "4           4         4          1     2.0          1.514922      1998.0   \n",
              "\n",
              "    PRICE  \n",
              "0  565000  \n",
              "1  365000  \n",
              "2  287000  \n",
              "3  255000  \n",
              "4  325000  "
            ],
            "text/html": [
              "\n",
              "  <div id=\"df-5a4fb943-cfd0-414c-b069-0df2ad34b770\">\n",
              "    <div class=\"colab-df-container\">\n",
              "      <div>\n",
              "<style scoped>\n",
              "    .dataframe tbody tr th:only-of-type {\n",
              "        vertical-align: middle;\n",
              "    }\n",
              "\n",
              "    .dataframe tbody tr th {\n",
              "        vertical-align: top;\n",
              "    }\n",
              "\n",
              "    .dataframe thead th {\n",
              "        text-align: right;\n",
              "    }\n",
              "</style>\n",
              "<table border=\"1\" class=\"dataframe\">\n",
              "  <thead>\n",
              "    <tr style=\"text-align: right;\">\n",
              "      <th></th>\n",
              "      <th>Unnamed: 0</th>\n",
              "      <th>BEDROOMS</th>\n",
              "      <th>BATHROOMS</th>\n",
              "      <th>GARAGE</th>\n",
              "      <th>NEAREST_SCH_DIST</th>\n",
              "      <th>BUILD_YEAR</th>\n",
              "      <th>PRICE</th>\n",
              "    </tr>\n",
              "  </thead>\n",
              "  <tbody>\n",
              "    <tr>\n",
              "      <th>0</th>\n",
              "      <td>0</td>\n",
              "      <td>4</td>\n",
              "      <td>2</td>\n",
              "      <td>2.0</td>\n",
              "      <td>0.828339</td>\n",
              "      <td>2003.0</td>\n",
              "      <td>565000</td>\n",
              "    </tr>\n",
              "    <tr>\n",
              "      <th>1</th>\n",
              "      <td>1</td>\n",
              "      <td>3</td>\n",
              "      <td>2</td>\n",
              "      <td>2.0</td>\n",
              "      <td>5.524324</td>\n",
              "      <td>2013.0</td>\n",
              "      <td>365000</td>\n",
              "    </tr>\n",
              "    <tr>\n",
              "      <th>2</th>\n",
              "      <td>2</td>\n",
              "      <td>3</td>\n",
              "      <td>1</td>\n",
              "      <td>1.0</td>\n",
              "      <td>1.649178</td>\n",
              "      <td>1979.0</td>\n",
              "      <td>287000</td>\n",
              "    </tr>\n",
              "    <tr>\n",
              "      <th>3</th>\n",
              "      <td>3</td>\n",
              "      <td>2</td>\n",
              "      <td>1</td>\n",
              "      <td>2.0</td>\n",
              "      <td>1.571401</td>\n",
              "      <td>1953.0</td>\n",
              "      <td>255000</td>\n",
              "    </tr>\n",
              "    <tr>\n",
              "      <th>4</th>\n",
              "      <td>4</td>\n",
              "      <td>4</td>\n",
              "      <td>1</td>\n",
              "      <td>2.0</td>\n",
              "      <td>1.514922</td>\n",
              "      <td>1998.0</td>\n",
              "      <td>325000</td>\n",
              "    </tr>\n",
              "  </tbody>\n",
              "</table>\n",
              "</div>\n",
              "      <button class=\"colab-df-convert\" onclick=\"convertToInteractive('df-5a4fb943-cfd0-414c-b069-0df2ad34b770')\"\n",
              "              title=\"Convert this dataframe to an interactive table.\"\n",
              "              style=\"display:none;\">\n",
              "        \n",
              "  <svg xmlns=\"http://www.w3.org/2000/svg\" height=\"24px\"viewBox=\"0 0 24 24\"\n",
              "       width=\"24px\">\n",
              "    <path d=\"M0 0h24v24H0V0z\" fill=\"none\"/>\n",
              "    <path d=\"M18.56 5.44l.94 2.06.94-2.06 2.06-.94-2.06-.94-.94-2.06-.94 2.06-2.06.94zm-11 1L8.5 8.5l.94-2.06 2.06-.94-2.06-.94L8.5 2.5l-.94 2.06-2.06.94zm10 10l.94 2.06.94-2.06 2.06-.94-2.06-.94-.94-2.06-.94 2.06-2.06.94z\"/><path d=\"M17.41 7.96l-1.37-1.37c-.4-.4-.92-.59-1.43-.59-.52 0-1.04.2-1.43.59L10.3 9.45l-7.72 7.72c-.78.78-.78 2.05 0 2.83L4 21.41c.39.39.9.59 1.41.59.51 0 1.02-.2 1.41-.59l7.78-7.78 2.81-2.81c.8-.78.8-2.07 0-2.86zM5.41 20L4 18.59l7.72-7.72 1.47 1.35L5.41 20z\"/>\n",
              "  </svg>\n",
              "      </button>\n",
              "      \n",
              "  <style>\n",
              "    .colab-df-container {\n",
              "      display:flex;\n",
              "      flex-wrap:wrap;\n",
              "      gap: 12px;\n",
              "    }\n",
              "\n",
              "    .colab-df-convert {\n",
              "      background-color: #E8F0FE;\n",
              "      border: none;\n",
              "      border-radius: 50%;\n",
              "      cursor: pointer;\n",
              "      display: none;\n",
              "      fill: #1967D2;\n",
              "      height: 32px;\n",
              "      padding: 0 0 0 0;\n",
              "      width: 32px;\n",
              "    }\n",
              "\n",
              "    .colab-df-convert:hover {\n",
              "      background-color: #E2EBFA;\n",
              "      box-shadow: 0px 1px 2px rgba(60, 64, 67, 0.3), 0px 1px 3px 1px rgba(60, 64, 67, 0.15);\n",
              "      fill: #174EA6;\n",
              "    }\n",
              "\n",
              "    [theme=dark] .colab-df-convert {\n",
              "      background-color: #3B4455;\n",
              "      fill: #D2E3FC;\n",
              "    }\n",
              "\n",
              "    [theme=dark] .colab-df-convert:hover {\n",
              "      background-color: #434B5C;\n",
              "      box-shadow: 0px 1px 3px 1px rgba(0, 0, 0, 0.15);\n",
              "      filter: drop-shadow(0px 1px 2px rgba(0, 0, 0, 0.3));\n",
              "      fill: #FFFFFF;\n",
              "    }\n",
              "  </style>\n",
              "\n",
              "      <script>\n",
              "        const buttonEl =\n",
              "          document.querySelector('#df-5a4fb943-cfd0-414c-b069-0df2ad34b770 button.colab-df-convert');\n",
              "        buttonEl.style.display =\n",
              "          google.colab.kernel.accessAllowed ? 'block' : 'none';\n",
              "\n",
              "        async function convertToInteractive(key) {\n",
              "          const element = document.querySelector('#df-5a4fb943-cfd0-414c-b069-0df2ad34b770');\n",
              "          const dataTable =\n",
              "            await google.colab.kernel.invokeFunction('convertToInteractive',\n",
              "                                                     [key], {});\n",
              "          if (!dataTable) return;\n",
              "\n",
              "          const docLinkHtml = 'Like what you see? Visit the ' +\n",
              "            '<a target=\"_blank\" href=https://colab.research.google.com/notebooks/data_table.ipynb>data table notebook</a>'\n",
              "            + ' to learn more about interactive tables.';\n",
              "          element.innerHTML = '';\n",
              "          dataTable['output_type'] = 'display_data';\n",
              "          await google.colab.output.renderOutput(dataTable, element);\n",
              "          const docLink = document.createElement('div');\n",
              "          docLink.innerHTML = docLinkHtml;\n",
              "          element.appendChild(docLink);\n",
              "        }\n",
              "      </script>\n",
              "    </div>\n",
              "  </div>\n",
              "  "
            ]
          },
          "metadata": {},
          "execution_count": 5
        }
      ],
      "source": [
        "df.head()"
      ]
    },
    {
      "cell_type": "code",
      "source": [
        "# Achando o X_data e o y_label\n",
        "#X_data = df[[\"BEDROOMS\", \"BATHROOMS\", \"GARAGE\", \"LAND_AREA\", \"FLOOR_AREA\"]].to_numpy()\n",
        "X_data = df[[\"BEDROOMS\", \"BATHROOMS\", \"GARAGE\",\"NEAREST_SCH_DIST\", \"BUILD_YEAR\"]].to_numpy()"
      ],
      "metadata": {
        "id": "_cS54EcI-yXG"
      },
      "execution_count": null,
      "outputs": []
    },
    {
      "cell_type": "code",
      "source": [
        "X_data"
      ],
      "metadata": {
        "colab": {
          "base_uri": "https://localhost:8080/"
        },
        "id": "MvFH8WNX_mSE",
        "outputId": "2a7e5d35-e826-41f2-9b93-306be0fe90cd"
      },
      "execution_count": null,
      "outputs": [
        {
          "output_type": "execute_result",
          "data": {
            "text/plain": [
              "array([[4.00000000e+00, 2.00000000e+00, 2.00000000e+00, 8.28338552e-01,\n",
              "        2.00300000e+03],\n",
              "       [3.00000000e+00, 2.00000000e+00, 2.00000000e+00, 5.52432435e+00,\n",
              "        2.01300000e+03],\n",
              "       [3.00000000e+00, 1.00000000e+00, 1.00000000e+00, 1.64917818e+00,\n",
              "        1.97900000e+03],\n",
              "       ...,\n",
              "       [4.00000000e+00, 2.00000000e+00, 1.00000000e+00, 1.60745459e+00,\n",
              "        1.99600000e+03],\n",
              "       [3.00000000e+00, 1.00000000e+00, 1.00000000e+00, 4.03939822e-01,\n",
              "        2.00900000e+03],\n",
              "       [5.00000000e+00, 2.00000000e+00, 5.00000000e+00, 4.08790698e-01,\n",
              "        1.98600000e+03]])"
            ]
          },
          "metadata": {},
          "execution_count": 7
        }
      ]
    },
    {
      "cell_type": "code",
      "source": [
        "X_data[0]"
      ],
      "metadata": {
        "colab": {
          "base_uri": "https://localhost:8080/"
        },
        "id": "9jE-8Nkc_oBj",
        "outputId": "ea7729fe-1fa6-40d7-8654-92815e262140"
      },
      "execution_count": null,
      "outputs": [
        {
          "output_type": "execute_result",
          "data": {
            "text/plain": [
              "array([4.00000000e+00, 2.00000000e+00, 2.00000000e+00, 8.28338552e-01,\n",
              "       2.00300000e+03])"
            ]
          },
          "metadata": {},
          "execution_count": 8
        }
      ]
    },
    {
      "cell_type": "code",
      "source": [
        "y_label = df[\"PRICE\"].to_numpy()"
      ],
      "metadata": {
        "id": "1DMoF2TA_zVz"
      },
      "execution_count": null,
      "outputs": []
    },
    {
      "cell_type": "code",
      "source": [
        "y_label"
      ],
      "metadata": {
        "colab": {
          "base_uri": "https://localhost:8080/"
        },
        "id": "bvaCAbCaA-tN",
        "outputId": "8eb0e3e3-4b36-4dba-897f-b33f90c6ccad"
      },
      "execution_count": null,
      "outputs": [
        {
          "output_type": "execute_result",
          "data": {
            "text/plain": [
              "array([565000, 365000, 287000, ..., 369000, 357000, 600000])"
            ]
          },
          "metadata": {},
          "execution_count": 10
        }
      ]
    },
    {
      "cell_type": "code",
      "source": [
        "# Shape de X_data e y_label -> Os dados totais\n",
        "X_data.shape, y_label.shape"
      ],
      "metadata": {
        "colab": {
          "base_uri": "https://localhost:8080/"
        },
        "id": "QGrPRhPfA__g",
        "outputId": "8978c9ac-6055-4145-855b-56d13ef6b2ee"
      },
      "execution_count": null,
      "outputs": [
        {
          "output_type": "execute_result",
          "data": {
            "text/plain": [
              "((13798, 5), (13798,))"
            ]
          },
          "metadata": {},
          "execution_count": 11
        }
      ]
    },
    {
      "cell_type": "code",
      "source": [
        "# x_train, x_test, y_train, y_test = train_test_split( X_data, y_label, train_size = 0.8)\n",
        "x_train, x_test, y_train, y_test = train_test_split( X_data, y_label, train_size = 0.8)"
      ],
      "metadata": {
        "id": "EfoXm-94BHnh"
      },
      "execution_count": null,
      "outputs": []
    },
    {
      "cell_type": "code",
      "source": [
        "print(x_train.shape, y_train.shape)"
      ],
      "metadata": {
        "colab": {
          "base_uri": "https://localhost:8080/"
        },
        "id": "wiFr83oxBOmT",
        "outputId": "5058b782-6bc7-43f7-d53b-e8ee2917b130"
      },
      "execution_count": null,
      "outputs": [
        {
          "output_type": "stream",
          "name": "stdout",
          "text": [
            "(11038, 5) (11038,)\n"
          ]
        }
      ]
    },
    {
      "cell_type": "code",
      "source": [
        "print(x_test.shape, y_test.shape)"
      ],
      "metadata": {
        "colab": {
          "base_uri": "https://localhost:8080/"
        },
        "id": "dvUq6xt_BOo3",
        "outputId": "393b6c9c-9ef3-4478-b8bf-dde23041b53d"
      },
      "execution_count": null,
      "outputs": [
        {
          "output_type": "stream",
          "name": "stdout",
          "text": [
            "(2760, 5) (2760,)\n"
          ]
        }
      ]
    },
    {
      "cell_type": "markdown",
      "source": [
        "#### ML SVR Regression"
      ],
      "metadata": {
        "id": "MPwUioaAEAUh"
      }
    },
    {
      "cell_type": "code",
      "source": [
        "#Criando o modelo\n",
        "model_svr = SVR(kernel = \"linear\", degree = 4, C = 3.0)"
      ],
      "metadata": {
        "id": "LYSrwdmRBOq7"
      },
      "execution_count": null,
      "outputs": []
    },
    {
      "cell_type": "code",
      "source": [
        "# Treinar o modelo -> x_train, y_train\n",
        "model_svr.fit(x_train, y_train)"
      ],
      "metadata": {
        "colab": {
          "base_uri": "https://localhost:8080/"
        },
        "id": "kbQ9d6CjCXPZ",
        "outputId": "ade6d1a5-cd85-4888-b53e-3cd986d9a2c8"
      },
      "execution_count": null,
      "outputs": [
        {
          "output_type": "execute_result",
          "data": {
            "text/plain": [
              "SVR(C=3.0, degree=4, kernel='linear')"
            ]
          },
          "metadata": {},
          "execution_count": 16
        }
      ]
    },
    {
      "cell_type": "markdown",
      "source": [
        "##### Testes e Qualidade - Acurácia"
      ],
      "metadata": {
        "id": "_u5s77FfE474"
      }
    },
    {
      "cell_type": "code",
      "source": [
        "preditos = model_svr.predict(x_test)\n",
        "print(preditos)"
      ],
      "metadata": {
        "colab": {
          "base_uri": "https://localhost:8080/"
        },
        "id": "iICd5jhtCXR7",
        "outputId": "9894d99f-eedc-4f52-a7f0-bb256cb7cd9f"
      },
      "execution_count": null,
      "outputs": [
        {
          "output_type": "stream",
          "name": "stdout",
          "text": [
            "[498523.28438675 510096.88151347 490921.55834755 ... 484039.18241884\n",
            " 554004.06461062 525873.92402438]\n"
          ]
        }
      ]
    },
    {
      "cell_type": "code",
      "source": [
        "score_mse = mse(y_test, preditos)\n",
        "print(score_mse)"
      ],
      "metadata": {
        "colab": {
          "base_uri": "https://localhost:8080/"
        },
        "id": "L3gSElIiCXUh",
        "outputId": "47c420ac-558a-48e3-c820-abe1c007b00a"
      },
      "execution_count": null,
      "outputs": [
        {
          "output_type": "stream",
          "name": "stdout",
          "text": [
            "36000558109.4421\n"
          ]
        }
      ]
    },
    {
      "cell_type": "code",
      "source": [
        "# Medir o valor de RMSE\n",
        "RMSE = np.sqrt(score_mse)\n",
        "print(RMSE)"
      ],
      "metadata": {
        "colab": {
          "base_uri": "https://localhost:8080/"
        },
        "id": "R9IZKkhfIJRU",
        "outputId": "6b97612e-910e-47f4-cb1c-692e4469bd9d"
      },
      "execution_count": null,
      "outputs": [
        {
          "output_type": "stream",
          "name": "stdout",
          "text": [
            "189738.13035191977\n"
          ]
        }
      ]
    },
    {
      "cell_type": "code",
      "source": [
        "plt.figure(figsize = (15,4))\n",
        "plt.subplot(1,2,1)\n",
        "plt.title(\"X Teste\")\n",
        "plt.hist(y_test, bins = 20)\n",
        "plt.subplot(1,2,2)\n",
        "plt.hist(preditos, bins = 20, color = \"y\")\n",
        "plt.title(\"Preditos\")\n",
        "plt.show()"
      ],
      "metadata": {
        "colab": {
          "base_uri": "https://localhost:8080/",
          "height": 294
        },
        "id": "0uiOax0zIXtY",
        "outputId": "83862a19-d712-4dc2-a721-a023b0e94509"
      },
      "execution_count": null,
      "outputs": [
        {
          "output_type": "display_data",
          "data": {
            "text/plain": [
              "<Figure size 1080x288 with 2 Axes>"
            ],
            "image/png": "[encoded data removed]"
          },
          "metadata": {
            "needs_background": "light"
          }
        }
      ]
    },
    {
      "cell_type": "code",
      "source": [
        "plt.figure(figsize = (15,4))\n",
        "plt.subplot(1,2,1)\n",
        "plt.title(\"X Teste\")\n",
        "plt.boxplot(y_test)\n",
        "plt.subplot(1,2,2)\n",
        "plt.boxplot(preditos)\n",
        "plt.title(\"Preditos\")\n",
        "plt.show()"
      ],
      "metadata": {
        "colab": {
          "base_uri": "https://localhost:8080/",
          "height": 281
        },
        "id": "QWeHrabKIicJ",
        "outputId": "8cb09236-7928-41fe-f4cc-23abbe2cbc7c"
      },
      "execution_count": null,
      "outputs": [
        {
          "output_type": "display_data",
          "data": {
            "text/plain": [
              "<Figure size 1080x288 with 2 Axes>"
            ],
            "image/png": "[encoded data removed]"
          },
          "metadata": {
            "needs_background": "light"
          }
        }
      ]
    },
    {
      "cell_type": "markdown",
      "source": [
        "### DecisionTree"
      ],
      "metadata": {
        "id": "rZ3wa6xcn7vg"
      }
    },
    {
      "cell_type": "code",
      "source": [
        "#Criando o modelo\n",
        "model_tree = DecisionTreeRegressor(criterion='absolute_error')"
      ],
      "metadata": {
        "id": "vuNgy5KiUeCz"
      },
      "execution_count": null,
      "outputs": []
    },
    {
      "cell_type": "code",
      "source": [
        "#Treinado o modelo\n",
        "model_tree.fit(x_train, y_train)"
      ],
      "metadata": {
        "colab": {
          "base_uri": "https://localhost:8080/"
        },
        "id": "HpwO32eRo1SR",
        "outputId": "e0c8017b-b042-4a3e-f207-9bbc68685bba"
      },
      "execution_count": null,
      "outputs": [
        {
          "output_type": "execute_result",
          "data": {
            "text/plain": [
              "DecisionTreeRegressor(criterion='absolute_error')"
            ]
          },
          "metadata": {},
          "execution_count": 23
        }
      ]
    },
    {
      "cell_type": "code",
      "source": [
        "# Calcular os preditos pelo model_tree\n",
        "predictTree = model_tree.predict(x_test)\n",
        "print(predictTree)\n",
        "print(predictTree.shape)"
      ],
      "metadata": {
        "colab": {
          "base_uri": "https://localhost:8080/"
        },
        "id": "FBdzzKDTpNo8",
        "outputId": "f7bf5c28-1586-42e8-84e1-4559c73d6f47"
      },
      "execution_count": null,
      "outputs": [
        {
          "output_type": "stream",
          "name": "stdout",
          "text": [
            "[620000. 550000. 665000. ... 285000. 680000. 370000.]\n",
            "(2760,)\n"
          ]
        }
      ]
    },
    {
      "cell_type": "code",
      "source": [
        "# Medir o RSME\n",
        "scoreTree = mse(y_test, predictTree)\n",
        "RSME_Tree = np.sqrt(scoreTree)\n",
        "print(\"O valor do RSME do modelo Decision Tree é: {:.2f}\".format(RSME_Tree))"
      ],
      "metadata": {
        "colab": {
          "base_uri": "https://localhost:8080/"
        },
        "id": "QqRMHyrPpDJm",
        "outputId": "cba7ad74-e339-4a85-eeda-d448f714d6f1"
      },
      "execution_count": null,
      "outputs": [
        {
          "output_type": "stream",
          "name": "stdout",
          "text": [
            "O valor do RSME do modelo Decision Tree é: 228136.82\n"
          ]
        }
      ]
    },
    {
      "cell_type": "code",
      "source": [
        "plt.figure(figsize = (15,4))\n",
        "plt.subplot(1,2,1)\n",
        "plt.title(\"X Teste\")\n",
        "plt.hist(y_test, bins = 20)\n",
        "plt.subplot(1,2,2)\n",
        "plt.hist(predictTree, bins = 20, color = \"y\")\n",
        "plt.title(\"Preditos DecisionTree\")\n",
        "plt.show()"
      ],
      "metadata": {
        "colab": {
          "base_uri": "https://localhost:8080/",
          "height": 294
        },
        "id": "UuLh8VVOqaQS",
        "outputId": "d3ea6905-5db5-479a-8778-f91f032a6c88"
      },
      "execution_count": null,
      "outputs": [
        {
          "output_type": "display_data",
          "data": {
            "text/plain": [
              "<Figure size 1080x288 with 2 Axes>"
            ],
            "image/png": "[encoded data removed]"
          },
          "metadata": {
            "needs_background": "light"
          }
        }
      ]
    },
    {
      "cell_type": "code",
      "source": [
        "plt.figure(figsize = (15,4))\n",
        "plt.subplot(1,2,1)\n",
        "plt.title(\"X Teste\")\n",
        "plt.boxplot(y_test)\n",
        "plt.subplot(1,2,2)\n",
        "plt.boxplot(predictTree)\n",
        "plt.title(\"Preditos DecisionTree\")\n",
        "plt.show()"
      ],
      "metadata": {
        "colab": {
          "base_uri": "https://localhost:8080/",
          "height": 281
        },
        "id": "J6J-ndUwqrAh",
        "outputId": "7830d053-276e-411e-8ef7-57a0065ba8d8"
      },
      "execution_count": null,
      "outputs": [
        {
          "output_type": "display_data",
          "data": {
            "text/plain": [
              "<Figure size 1080x288 with 2 Axes>"
            ],
            "image/png": "[encoded data removed]"
          },
          "metadata": {
            "needs_background": "light"
          }
        }
      ]
    },
    {
      "cell_type": "code",
      "source": [
        ""
      ],
      "metadata": {
        "id": "wIEFWrY9rZYZ"
      },
      "execution_count": null,
      "outputs": []
    },
    {
      "cell_type": "markdown",
      "source": [
        "#### Avaliando e Prevendo com o modelo"
      ],
      "metadata": {
        "id": "VHmy8WuDzajo"
      }
    },
    {
      "cell_type": "code",
      "source": [
        "df.head(2)"
      ],
      "metadata": {
        "colab": {
          "base_uri": "https://localhost:8080/",
          "height": 112
        },
        "id": "pcXf1-YPzeLZ",
        "outputId": "eb49e003-5996-4ce2-de3f-162b84d183e6"
      },
      "execution_count": null,
      "outputs": [
        {
          "output_type": "execute_result",
          "data": {
            "text/plain": [
              "   Unnamed: 0  BEDROOMS  BATHROOMS  GARAGE  NEAREST_SCH_DIST  BUILD_YEAR  \\\n",
              "0           0         4          2     2.0          0.828339      2003.0   \n",
              "1           1         3          2     2.0          5.524324      2013.0   \n",
              "\n",
              "    PRICE  \n",
              "0  565000  \n",
              "1  365000  "
            ],
            "text/html": [
              "\n",
              "  <div id=\"df-1a757f53-1436-4b2e-9f49-80dfb1f04c93\">\n",
              "    <div class=\"colab-df-container\">\n",
              "      <div>\n",
              "<style scoped>\n",
              "    .dataframe tbody tr th:only-of-type {\n",
              "        vertical-align: middle;\n",
              "    }\n",
              "\n",
              "    .dataframe tbody tr th {\n",
              "        vertical-align: top;\n",
              "    }\n",
              "\n",
              "    .dataframe thead th {\n",
              "        text-align: right;\n",
              "    }\n",
              "</style>\n",
              "<table border=\"1\" class=\"dataframe\">\n",
              "  <thead>\n",
              "    <tr style=\"text-align: right;\">\n",
              "      <th></th>\n",
              "      <th>Unnamed: 0</th>\n",
              "      <th>BEDROOMS</th>\n",
              "      <th>BATHROOMS</th>\n",
              "      <th>GARAGE</th>\n",
              "      <th>NEAREST_SCH_DIST</th>\n",
              "      <th>BUILD_YEAR</th>\n",
              "      <th>PRICE</th>\n",
              "    </tr>\n",
              "  </thead>\n",
              "  <tbody>\n",
              "    <tr>\n",
              "      <th>0</th>\n",
              "      <td>0</td>\n",
              "      <td>4</td>\n",
              "      <td>2</td>\n",
              "      <td>2.0</td>\n",
              "      <td>0.828339</td>\n",
              "      <td>2003.0</td>\n",
              "      <td>565000</td>\n",
              "    </tr>\n",
              "    <tr>\n",
              "      <th>1</th>\n",
              "      <td>1</td>\n",
              "      <td>3</td>\n",
              "      <td>2</td>\n",
              "      <td>2.0</td>\n",
              "      <td>5.524324</td>\n",
              "      <td>2013.0</td>\n",
              "      <td>365000</td>\n",
              "    </tr>\n",
              "  </tbody>\n",
              "</table>\n",
              "</div>\n",
              "      <button class=\"colab-df-convert\" onclick=\"convertToInteractive('df-1a757f53-1436-4b2e-9f49-80dfb1f04c93')\"\n",
              "              title=\"Convert this dataframe to an interactive table.\"\n",
              "              style=\"display:none;\">\n",
              "        \n",
              "  <svg xmlns=\"http://www.w3.org/2000/svg\" height=\"24px\"viewBox=\"0 0 24 24\"\n",
              "       width=\"24px\">\n",
              "    <path d=\"M0 0h24v24H0V0z\" fill=\"none\"/>\n",
              "    <path d=\"M18.56 5.44l.94 2.06.94-2.06 2.06-.94-2.06-.94-.94-2.06-.94 2.06-2.06.94zm-11 1L8.5 8.5l.94-2.06 2.06-.94-2.06-.94L8.5 2.5l-.94 2.06-2.06.94zm10 10l.94 2.06.94-2.06 2.06-.94-2.06-.94-.94-2.06-.94 2.06-2.06.94z\"/><path d=\"M17.41 7.96l-1.37-1.37c-.4-.4-.92-.59-1.43-.59-.52 0-1.04.2-1.43.59L10.3 9.45l-7.72 7.72c-.78.78-.78 2.05 0 2.83L4 21.41c.39.39.9.59 1.41.59.51 0 1.02-.2 1.41-.59l7.78-7.78 2.81-2.81c.8-.78.8-2.07 0-2.86zM5.41 20L4 18.59l7.72-7.72 1.47 1.35L5.41 20z\"/>\n",
              "  </svg>\n",
              "      </button>\n",
              "      \n",
              "  <style>\n",
              "    .colab-df-container {\n",
              "      display:flex;\n",
              "      flex-wrap:wrap;\n",
              "      gap: 12px;\n",
              "    }\n",
              "\n",
              "    .colab-df-convert {\n",
              "      background-color: #E8F0FE;\n",
              "      border: none;\n",
              "      border-radius: 50%;\n",
              "      cursor: pointer;\n",
              "      display: none;\n",
              "      fill: #1967D2;\n",
              "      height: 32px;\n",
              "      padding: 0 0 0 0;\n",
              "      width: 32px;\n",
              "    }\n",
              "\n",
              "    .colab-df-convert:hover {\n",
              "      background-color: #E2EBFA;\n",
              "      box-shadow: 0px 1px 2px rgba(60, 64, 67, 0.3), 0px 1px 3px 1px rgba(60, 64, 67, 0.15);\n",
              "      fill: #174EA6;\n",
              "    }\n",
              "\n",
              "    [theme=dark] .colab-df-convert {\n",
              "      background-color: #3B4455;\n",
              "      fill: #D2E3FC;\n",
              "    }\n",
              "\n",
              "    [theme=dark] .colab-df-convert:hover {\n",
              "      background-color: #434B5C;\n",
              "      box-shadow: 0px 1px 3px 1px rgba(0, 0, 0, 0.15);\n",
              "      filter: drop-shadow(0px 1px 2px rgba(0, 0, 0, 0.3));\n",
              "      fill: #FFFFFF;\n",
              "    }\n",
              "  </style>\n",
              "\n",
              "      <script>\n",
              "        const buttonEl =\n",
              "          document.querySelector('#df-1a757f53-1436-4b2e-9f49-80dfb1f04c93 button.colab-df-convert');\n",
              "        buttonEl.style.display =\n",
              "          google.colab.kernel.accessAllowed ? 'block' : 'none';\n",
              "\n",
              "        async function convertToInteractive(key) {\n",
              "          const element = document.querySelector('#df-1a757f53-1436-4b2e-9f49-80dfb1f04c93');\n",
              "          const dataTable =\n",
              "            await google.colab.kernel.invokeFunction('convertToInteractive',\n",
              "                                                     [key], {});\n",
              "          if (!dataTable) return;\n",
              "\n",
              "          const docLinkHtml = 'Like what you see? Visit the ' +\n",
              "            '<a target=\"_blank\" href=https://colab.research.google.com/notebooks/data_table.ipynb>data table notebook</a>'\n",
              "            + ' to learn more about interactive tables.';\n",
              "          element.innerHTML = '';\n",
              "          dataTable['output_type'] = 'display_data';\n",
              "          await google.colab.output.renderOutput(dataTable, element);\n",
              "          const docLink = document.createElement('div');\n",
              "          docLink.innerHTML = docLinkHtml;\n",
              "          element.appendChild(docLink);\n",
              "        }\n",
              "      </script>\n",
              "    </div>\n",
              "  </div>\n",
              "  "
            ]
          },
          "metadata": {},
          "execution_count": 28
        }
      ]
    },
    {
      "cell_type": "code",
      "source": [
        "df.NEAREST_SCH_DIST.min()"
      ],
      "metadata": {
        "colab": {
          "base_uri": "https://localhost:8080/"
        },
        "id": "g8tCezKaz9gp",
        "outputId": "ce48157f-9c99-4149-bfd0-10c28852acf9"
      },
      "execution_count": null,
      "outputs": [
        {
          "output_type": "execute_result",
          "data": {
            "text/plain": [
              "0.0709120036079524"
            ]
          },
          "metadata": {},
          "execution_count": 29
        }
      ]
    },
    {
      "cell_type": "code",
      "source": [
        "df.NEAREST_SCH_DIST.max()"
      ],
      "metadata": {
        "colab": {
          "base_uri": "https://localhost:8080/"
        },
        "id": "9c6QcTXB0Ax_",
        "outputId": "ce09df7c-44a5-41a0-a030-52ac77bedfed"
      },
      "execution_count": null,
      "outputs": [
        {
          "output_type": "execute_result",
          "data": {
            "text/plain": [
              "19.40623300306224"
            ]
          },
          "metadata": {},
          "execution_count": 30
        }
      ]
    },
    {
      "cell_type": "code",
      "source": [
        "df.BUILD_YEAR.min(), df.BUILD_YEAR.max()"
      ],
      "metadata": {
        "colab": {
          "base_uri": "https://localhost:8080/"
        },
        "id": "sRV4QfiW0LR7",
        "outputId": "5a48fdd4-54e3-4cb1-cf13-76e449ae4c18"
      },
      "execution_count": null,
      "outputs": [
        {
          "output_type": "execute_result",
          "data": {
            "text/plain": [
              "(1886.0, 2017.0)"
            ]
          },
          "metadata": {},
          "execution_count": 31
        }
      ]
    },
    {
      "cell_type": "code",
      "source": [
        "# Prevendo com os dados que a gente está criando\n",
        "\n",
        "dado = np.array([[10.0, 5.0, 2.0, 3.0, 2010.0]])\n",
        "print(\"O valor da casa predito é: {:.2f}\".format(model_tree.predict(dado)[0]))"
      ],
      "metadata": {
        "colab": {
          "base_uri": "https://localhost:8080/"
        },
        "id": "ON3y2DIlzfxO",
        "outputId": "3a13379d-095c-4655-a825-cb89d19372c3"
      },
      "execution_count": null,
      "outputs": [
        {
          "output_type": "stream",
          "name": "stdout",
          "text": [
            "O valor da casa predito é: 600000.00\n"
          ]
        }
      ]
    },
    {
      "cell_type": "code",
      "source": [
        ""
      ],
      "metadata": {
        "id": "yxCa5uWaz28m"
      },
      "execution_count": null,
      "outputs": []
    }
  ]
}
