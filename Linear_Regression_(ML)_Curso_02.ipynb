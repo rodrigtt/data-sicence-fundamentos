{
  "nbformat": 4,
  "nbformat_minor": 0,
  "metadata": {
    "colab": {
      "name": "Linear Regression (ML) - Curso 02",
      "provenance": [],
      "collapsed_sections": []
    },
    "kernelspec": {
      "name": "python3",
      "display_name": "Python 3"
    },
    "language_info": {
      "name": "python"
    }
  },
  "cells": [
    {
      "cell_type": "markdown",
      "source": [
        "#### Imports"
      ],
      "metadata": {
        "id": "MqHFWsjfsbmM"
      }
    },
    {
      "cell_type": "code",
      "execution_count": 3,
      "metadata": {
        "id": "nIJQaQSMsIjl"
      },
      "outputs": [],
      "source": [
        "import matplotlib.pyplot as plt\n",
        "import numpy as np\n",
        "\n",
        "from sklearn.linear_model import LinearRegression"
      ]
    },
    {
      "cell_type": "markdown",
      "source": [
        "#### Functions"
      ],
      "metadata": {
        "id": "IzbqJevqsgHT"
      }
    },
    {
      "cell_type": "code",
      "source": [
        "def grafico(x, y, color = \"r\",title = \"\", show = True):\n",
        "  plt.plot(x, y, color) # gera o gráfico\n",
        "  plt.title(title)\n",
        "  if show:\n",
        "    plt.show()"
      ],
      "metadata": {
        "id": "ecBtH713siS3"
      },
      "execution_count": 33,
      "outputs": []
    },
    {
      "cell_type": "markdown",
      "source": [
        "#### Data"
      ],
      "metadata": {
        "id": "NyyAs6RGwbJj"
      }
    },
    {
      "cell_type": "code",
      "source": [
        "x = 2 * np.random.rand(100, 1)\n",
        "#print(x)\n",
        "y = 3 * x + np.random.rand(100, 1) + 4"
      ],
      "metadata": {
        "id": "Q3Z2c1_bwdp-"
      },
      "execution_count": 10,
      "outputs": []
    },
    {
      "cell_type": "code",
      "source": [
        "# Plot do par ordenado (x,y):\n",
        "\n",
        "grafico(x, y, color = \"ro\", title = \"Gráfico dos Dados\")"
      ],
      "metadata": {
        "colab": {
          "base_uri": "https://localhost:8080/",
          "height": 281
        },
        "id": "N0LhSXAqwd2d",
        "outputId": "9a860fe4-443b-4479-e1e6-1f57932e9679"
      },
      "execution_count": 23,
      "outputs": [
        {
          "output_type": "display_data",
          "data": {
            "text/plain": [
              "<Figure size 432x288 with 1 Axes>"
            ],
            "image/png": "[encoded data removed]"
          },
          "metadata": {
            "needs_background": "light"
          }
        }
      ]
    },
    {
      "cell_type": "markdown",
      "source": [
        "#### Criando o modelo LinearRegression"
      ],
      "metadata": {
        "id": "d7Xs3vOWzNUF"
      }
    },
    {
      "cell_type": "code",
      "source": [
        "# A gente tem que passar aquela função para uma variável.\n",
        "# Instanciando o modelo\n",
        "\n",
        "model_linear = LinearRegression()"
      ],
      "metadata": {
        "id": "lTCX7AEkweAc"
      },
      "execution_count": 18,
      "outputs": []
    },
    {
      "cell_type": "code",
      "source": [
        "# Treinando o modelo linear, passando os arrays x e y\n",
        "model_linear.fit(x, y)"
      ],
      "metadata": {
        "colab": {
          "base_uri": "https://localhost:8080/"
        },
        "id": "t3moC_4Qzq1y",
        "outputId": "c0d9fba8-501f-474b-f994-e3d3f56e5c3f"
      },
      "execution_count": 19,
      "outputs": [
        {
          "output_type": "execute_result",
          "data": {
            "text/plain": [
              "LinearRegression()"
            ]
          },
          "metadata": {},
          "execution_count": 19
        }
      ]
    },
    {
      "cell_type": "code",
      "source": [
        "# Coeficiente da reta linear\n",
        "model_linear.coef_"
      ],
      "metadata": {
        "colab": {
          "base_uri": "https://localhost:8080/"
        },
        "id": "LI1H28GczrzP",
        "outputId": "36aa47a2-e45c-4a2a-a5cd-71bff4905f8a"
      },
      "execution_count": 20,
      "outputs": [
        {
          "output_type": "execute_result",
          "data": {
            "text/plain": [
              "array([[3.0169431]])"
            ]
          },
          "metadata": {},
          "execution_count": 20
        }
      ]
    },
    {
      "cell_type": "code",
      "source": [
        "# O ponto que intercepta o eixo y é:\n",
        "model_linear.intercept_"
      ],
      "metadata": {
        "colab": {
          "base_uri": "https://localhost:8080/"
        },
        "id": "CX6rmQFUzr1x",
        "outputId": "c6e70232-0abc-4b81-de8a-915a8d18387e"
      },
      "execution_count": 22,
      "outputs": [
        {
          "output_type": "execute_result",
          "data": {
            "text/plain": [
              "array([4.431596])"
            ]
          },
          "metadata": {},
          "execution_count": 22
        }
      ]
    },
    {
      "cell_type": "code",
      "source": [
        "# alpha -> coeficiente angular da reta, beta -> valor interceptado\n",
        "alpha = model_linear.coef_\n",
        "beta = model_linear.intercept_"
      ],
      "metadata": {
        "id": "MTkiIWYo1PJ0"
      },
      "execution_count": 24,
      "outputs": []
    },
    {
      "cell_type": "code",
      "source": [
        "# Criando a reta: z = alpha * x + beta\n",
        "z = alpha * x + beta\n",
        "#print(z)"
      ],
      "metadata": {
        "id": "UvdNc42I2sYS"
      },
      "execution_count": 26,
      "outputs": []
    },
    {
      "cell_type": "code",
      "source": [
        "grafico(x, z, title = \"LinearRegression\")"
      ],
      "metadata": {
        "colab": {
          "base_uri": "https://localhost:8080/",
          "height": 281
        },
        "id": "xtKVpCvB2tY2",
        "outputId": "356ee598-26c7-4813-93d1-b68ddc3714f2"
      },
      "execution_count": 29,
      "outputs": [
        {
          "output_type": "display_data",
          "data": {
            "text/plain": [
              "<Figure size 432x288 with 1 Axes>"
            ],
            "image/png": "[encoded data removed]"
          },
          "metadata": {
            "needs_background": "light"
          }
        }
      ]
    },
    {
      "cell_type": "code",
      "source": [
        "# Plotar o gráfico dos dados e a LinearRegression\n",
        "\n",
        "grafico(x, y, color = \"r.\", show = False)\n",
        "grafico(x, z, color = \"b\", title = \"Linear Regression\")"
      ],
      "metadata": {
        "colab": {
          "base_uri": "https://localhost:8080/",
          "height": 281
        },
        "id": "XMydSSV83G81",
        "outputId": "c9a1a490-de35-4ad3-8fe6-015bb512954a"
      },
      "execution_count": 34,
      "outputs": [
        {
          "output_type": "display_data",
          "data": {
            "text/plain": [
              "<Figure size 432x288 with 1 Axes>"
            ],
            "image/png": "[encoded data removed]"
          },
          "metadata": {
            "needs_background": "light"
          }
        }
      ]
    },
    {
      "cell_type": "markdown",
      "source": [
        "##### Predizendo os valores de x"
      ],
      "metadata": {
        "id": "oEtfeiVE4-J_"
      }
    },
    {
      "cell_type": "code",
      "source": [
        "x[0], x[0].shape, x.shape"
      ],
      "metadata": {
        "colab": {
          "base_uri": "https://localhost:8080/"
        },
        "id": "p-NreGuE5OaC",
        "outputId": "9e0490e8-65a1-44b6-cb32-921265d4bbaa"
      },
      "execution_count": 40,
      "outputs": [
        {
          "output_type": "execute_result",
          "data": {
            "text/plain": [
              "(array([0.06207726]), (1,), (100, 1))"
            ]
          },
          "metadata": {},
          "execution_count": 40
        }
      ]
    },
    {
      "cell_type": "code",
      "source": [
        "# x[0] -> (1,) / x[0] -> (1,1)\n",
        "\n",
        "x_0 = x[0].reshape(1,1)"
      ],
      "metadata": {
        "id": "nRMScC-V5iML"
      },
      "execution_count": 41,
      "outputs": []
    },
    {
      "cell_type": "code",
      "source": [
        "x_0, x_0.shape"
      ],
      "metadata": {
        "colab": {
          "base_uri": "https://localhost:8080/"
        },
        "id": "3ME3DOTB6B1I",
        "outputId": "94c4e23a-9480-4779-c9d9-8e24eb633a9f"
      },
      "execution_count": 43,
      "outputs": [
        {
          "output_type": "execute_result",
          "data": {
            "text/plain": [
              "(array([[0.06207726]]), (1, 1))"
            ]
          },
          "metadata": {},
          "execution_count": 43
        }
      ]
    },
    {
      "cell_type": "code",
      "source": [
        "model_linear.predict(x_0)"
      ],
      "metadata": {
        "colab": {
          "base_uri": "https://localhost:8080/"
        },
        "id": "LJnW1CWm3mAD",
        "outputId": "45d4a6ac-5c98-4845-c154-89f4f7d7cc42"
      },
      "execution_count": 45,
      "outputs": [
        {
          "output_type": "execute_result",
          "data": {
            "text/plain": [
              "array([[4.61887955]])"
            ]
          },
          "metadata": {},
          "execution_count": 45
        }
      ]
    },
    {
      "cell_type": "code",
      "source": [
        "grafico(x, z, show = False)\n",
        "grafico(x, model_linear.predict(x), \"b.\")"
      ],
      "metadata": {
        "colab": {
          "base_uri": "https://localhost:8080/",
          "height": 265
        },
        "id": "TWSr_PM-6BAh",
        "outputId": "58c59a23-a6c2-4aad-98d9-5923dc9e1c5d"
      },
      "execution_count": 49,
      "outputs": [
        {
          "output_type": "display_data",
          "data": {
            "text/plain": [
              "<Figure size 432x288 with 1 Axes>"
            ],
            "image/png": "[encoded data removed]"
          },
          "metadata": {
            "needs_background": "light"
          }
        }
      ]
    },
    {
      "cell_type": "code",
      "source": [
        "number = np.array([[-13.0]])\n",
        "model_linear.predict(number)"
      ],
      "metadata": {
        "colab": {
          "base_uri": "https://localhost:8080/"
        },
        "id": "TI5PQMCH48qD",
        "outputId": "2bca9aee-1ed0-41f5-8e56-3eb4b0996021"
      },
      "execution_count": 56,
      "outputs": [
        {
          "output_type": "execute_result",
          "data": {
            "text/plain": [
              "array([[-34.78866427]])"
            ]
          },
          "metadata": {},
          "execution_count": 56
        }
      ]
    },
    {
      "cell_type": "code",
      "source": [
        ""
      ],
      "metadata": {
        "id": "3KEg5ARn694q"
      },
      "execution_count": null,
      "outputs": []
    }
  ]
}