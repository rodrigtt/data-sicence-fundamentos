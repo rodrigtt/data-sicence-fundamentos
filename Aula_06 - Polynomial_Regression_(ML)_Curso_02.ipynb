{
  "nbformat": 4,
  "nbformat_minor": 0,
  "metadata": {
    "colab": {
      "name": "Polynomial Regression (ML) - Curso 02",
      "provenance": [],
      "collapsed_sections": []
    },
    "kernelspec": {
      "name": "python3",
      "display_name": "Python 3"
    },
    "language_info": {
      "name": "python"
    }
  },
  "cells": [
    {
      "cell_type": "markdown",
      "source": [
        "##### Imports"
      ],
      "metadata": {
        "id": "wGOVZIM5_94f"
      }
    },
    {
      "cell_type": "code",
      "execution_count": 1,
      "metadata": {
        "id": "EENvsJGe_EYK"
      },
      "outputs": [],
      "source": [
        "#Imports\n",
        "import matplotlib.pyplot as plt\n",
        "import numpy as np\n",
        "\n",
        "from sklearn.linear_model import LinearRegression\n",
        "from sklearn.preprocessing import PolynomialFeatures"
      ]
    },
    {
      "cell_type": "markdown",
      "source": [
        "##### Functions"
      ],
      "metadata": {
        "id": "MxrD1KmEACNE"
      }
    },
    {
      "cell_type": "code",
      "source": [
        "def grafico(x, y, color = \"r\",title = \"\", show = True):\n",
        "  plt.plot(x, y, color) # gera o gráfico\n",
        "  plt.title(title)\n",
        "  if show:\n",
        "    plt.show()"
      ],
      "metadata": {
        "id": "haUNxyNe_7Dg"
      },
      "execution_count": 2,
      "outputs": []
    },
    {
      "cell_type": "markdown",
      "source": [
        "##### Data"
      ],
      "metadata": {
        "id": "54IpD08jAEeW"
      }
    },
    {
      "cell_type": "code",
      "source": [
        "X = 6 * np.random.rand(100,1) - 4\n",
        "X.shape\n",
        "Y = 0.5 *X**2 + 2*X -1 + np.random.rand(100,1)"
      ],
      "metadata": {
        "id": "1dlgz_inAG4B"
      },
      "execution_count": 3,
      "outputs": []
    },
    {
      "cell_type": "code",
      "source": [
        "grafico(X, Y, color = \"r.\",title = \"Dados\")"
      ],
      "metadata": {
        "colab": {
          "base_uri": "https://localhost:8080/",
          "height": 281
        },
        "id": "CWEZSfHpAR3z",
        "outputId": "b242b12a-7cad-460b-9c5c-5488094dd140"
      },
      "execution_count": 4,
      "outputs": [
        {
          "output_type": "display_data",
          "data": {
            "text/plain": [
              "<Figure size 432x288 with 1 Axes>"
            ],
            "image/png": "[encoded data removed]"
          },
          "metadata": {
            "needs_background": "light"
          }
        }
      ]
    },
    {
      "cell_type": "code",
      "source": [
        "poly_features = PolynomialFeatures(degree = 2, include_bias = False, interaction_only = False)"
      ],
      "metadata": {
        "id": "aforuX5CAqR2"
      },
      "execution_count": 5,
      "outputs": []
    },
    {
      "cell_type": "code",
      "source": [
        "X_poly = poly_features.fit_transform(X)"
      ],
      "metadata": {
        "id": "2FHjuu7MComZ"
      },
      "execution_count": 6,
      "outputs": []
    },
    {
      "cell_type": "code",
      "source": [
        "print(\"O valor de x_0 Original:\", X[0]), print(\"O valor de x_0 transformado\", X_poly[0])"
      ],
      "metadata": {
        "colab": {
          "base_uri": "https://localhost:8080/"
        },
        "id": "S_J6_7D9CoqA",
        "outputId": "0a1f5de2-cd54-4ca1-9c3f-0e12b873f8a9"
      },
      "execution_count": 7,
      "outputs": [
        {
          "output_type": "stream",
          "name": "stdout",
          "text": [
            "O valor de x_0 Original: [0.43654553]\n",
            "O valor de x_0 transformado [0.43654553 0.190572  ]\n"
          ]
        },
        {
          "output_type": "execute_result",
          "data": {
            "text/plain": [
              "(None, None)"
            ]
          },
          "metadata": {},
          "execution_count": 7
        }
      ]
    },
    {
      "cell_type": "markdown",
      "source": [
        "#### Treinar o modelo de grau 2"
      ],
      "metadata": {
        "id": "ZVSDITs9EYi-"
      }
    },
    {
      "cell_type": "code",
      "source": [
        "#Criei o modelo\n",
        "model_linear = LinearRegression()"
      ],
      "metadata": {
        "id": "9nHH5AuPD3-3"
      },
      "execution_count": 8,
      "outputs": []
    },
    {
      "cell_type": "code",
      "source": [
        "# Treinar o modelo -> Vamos passar o X_poly e o Y.\n",
        "model_linear.fit(X_poly, Y)"
      ],
      "metadata": {
        "colab": {
          "base_uri": "https://localhost:8080/"
        },
        "id": "oO1Eg7KOEgp0",
        "outputId": "b2a68e29-9f69-4b90-91f0-e50c3d44fd4c"
      },
      "execution_count": 9,
      "outputs": [
        {
          "output_type": "execute_result",
          "data": {
            "text/plain": [
              "LinearRegression()"
            ]
          },
          "metadata": {},
          "execution_count": 9
        }
      ]
    },
    {
      "cell_type": "code",
      "source": [
        "# Imprimir os coeficientes e as bias\n",
        "print(\"Os coeficientes de xˆ2 e de x:\", model_linear.coef_)\n",
        "print(\"O valor de c: \", model_linear.intercept_)"
      ],
      "metadata": {
        "colab": {
          "base_uri": "https://localhost:8080/"
        },
        "id": "UbNF06jPEvOd",
        "outputId": "4860e68a-8d06-42b2-9004-212f9e0926db"
      },
      "execution_count": 10,
      "outputs": [
        {
          "output_type": "stream",
          "name": "stdout",
          "text": [
            "Os coeficientes de xˆ2 e de x: [[1.99209557 0.50094982]]\n",
            "O valor de c:  [-0.52720219]\n"
          ]
        }
      ]
    },
    {
      "cell_type": "code",
      "source": [
        "model_linear.coef_[0][1]"
      ],
      "metadata": {
        "colab": {
          "base_uri": "https://localhost:8080/"
        },
        "id": "DDft8uo0FuO3",
        "outputId": "551ef5b6-017a-4ad9-c046-a1e57c0b3e0e"
      },
      "execution_count": 11,
      "outputs": [
        {
          "output_type": "execute_result",
          "data": {
            "text/plain": [
              "0.5009498194664462"
            ]
          },
          "metadata": {},
          "execution_count": 11
        }
      ]
    },
    {
      "cell_type": "code",
      "source": [
        "Z = model_linear.predict(X_poly)"
      ],
      "metadata": {
        "id": "uygx9lR7F86l"
      },
      "execution_count": 12,
      "outputs": []
    },
    {
      "cell_type": "code",
      "source": [
        "grafico(X, Y, \"r.\", show = False)\n",
        "grafico(X, Z, \"b.\")"
      ],
      "metadata": {
        "colab": {
          "base_uri": "https://localhost:8080/",
          "height": 265
        },
        "id": "kYuRZQpRGkrp",
        "outputId": "3d590795-f316-4f8a-c2b5-da103e498187"
      },
      "execution_count": 17,
      "outputs": [
        {
          "output_type": "display_data",
          "data": {
            "text/plain": [
              "<Figure size 432x288 with 1 Axes>"
            ],
            "image/png": "[encoded data removed]"
          },
          "metadata": {
            "needs_background": "light"
          }
        }
      ]
    },
    {
      "cell_type": "code",
      "source": [
        ""
      ],
      "metadata": {
        "id": "9e-WeIKWktUw"
      },
      "execution_count": null,
      "outputs": []
    }
  ]
}
