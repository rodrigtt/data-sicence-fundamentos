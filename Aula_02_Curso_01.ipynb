{
  "nbformat": 4,
  "nbformat_minor": 0,
  "metadata": {
    "colab": {
      "name": "Aula 02 - Curso 01",
      "provenance": [],
      "collapsed_sections": []
    },
    "kernelspec": {
      "name": "python3",
      "display_name": "Python 3"
    },
    "language_info": {
      "name": "python"
    }
  },
  "cells": [
    {
      "cell_type": "markdown",
      "source": [
        "# Conceitos básicos de IA\n",
        "\n"
      ],
      "metadata": {
        "id": "4k10OrFmukam"
      }
    },
    {
      "cell_type": "markdown",
      "source": [
        "### Libs"
      ],
      "metadata": {
        "id": "Ihmp0QocuvyR"
      }
    },
    {
      "cell_type": "code",
      "execution_count": null,
      "metadata": {
        "id": "dFBcl1tNqGVi"
      },
      "outputs": [],
      "source": [
        "# Imports Libs\n",
        "\n",
        "import numpy as np\n",
        "import matplotlib.pyplot as plt"
      ]
    },
    {
      "cell_type": "markdown",
      "source": [
        "### Functions"
      ],
      "metadata": {
        "id": "Zca0uvEeu1H_"
      }
    },
    {
      "cell_type": "code",
      "source": [
        "def plot_graf(xis, yis, color = \"r--\", title = \"Gráfico\"):\n",
        "  plt.plot(xis, yis, color)\n",
        "  plt.title(title)\n",
        "  plt.grid()"
      ],
      "metadata": {
        "id": "XqY7yxwQuHdF"
      },
      "execution_count": null,
      "outputs": []
    },
    {
      "cell_type": "code",
      "source": [
        "def media(dados):\n",
        "  valores = 0.0\n",
        "  quantidade = len(dados)\n",
        "  \n",
        "  for i in dados:\n",
        "    valores += i\n",
        "  \n",
        "  media = valores/quantidade\n",
        "\n",
        "  return media"
      ],
      "metadata": {
        "id": "p88CO3Km1NmX"
      },
      "execution_count": null,
      "outputs": []
    },
    {
      "cell_type": "code",
      "source": [
        "media_alturas = media(alturas)\n",
        "print(media_alturas)"
      ],
      "metadata": {
        "colab": {
          "base_uri": "https://localhost:8080/"
        },
        "id": "MTTTmmPk1NvN",
        "outputId": "ce80beba-1710-4d9b-c10e-133c889f9190"
      },
      "execution_count": null,
      "outputs": [
        {
          "output_type": "stream",
          "name": "stdout",
          "text": [
            "172.76923076923077\n"
          ]
        }
      ]
    },
    {
      "cell_type": "code",
      "source": [
        "def media_indice(dados, quantidade = 2):\n",
        "  valores = 0.0\n",
        "\n",
        "  for i in range(0, quantidade):\n",
        "    valores += dados[i]\n",
        "\n",
        "  media = valores/quantidade\n",
        "\n",
        "  return media"
      ],
      "metadata": {
        "id": "kBHYC2EuC3pg"
      },
      "execution_count": null,
      "outputs": []
    },
    {
      "cell_type": "code",
      "source": [
        "media_indice(alturas, quantidade = 13)"
      ],
      "metadata": {
        "colab": {
          "base_uri": "https://localhost:8080/"
        },
        "id": "QhgezUM1DoTp",
        "outputId": "21b1b269-95d0-44af-9855-bc3038505a9e"
      },
      "execution_count": null,
      "outputs": [
        {
          "output_type": "execute_result",
          "data": {
            "text/plain": [
              "172.76923076923077"
            ]
          },
          "metadata": {},
          "execution_count": 89
        }
      ]
    },
    {
      "cell_type": "code",
      "source": [
        "print(\"A média das alturas é: {:.2f}\".format(media(alturas)))"
      ],
      "metadata": {
        "colab": {
          "base_uri": "https://localhost:8080/"
        },
        "id": "3Chs2zvk1NzY",
        "outputId": "e35909f6-84b4-4a5a-80ee-f7f38a57a025"
      },
      "execution_count": null,
      "outputs": [
        {
          "output_type": "stream",
          "name": "stdout",
          "text": [
            "A média das alturas é: 172.77\n"
          ]
        }
      ]
    },
    {
      "cell_type": "code",
      "source": [
        ""
      ],
      "metadata": {
        "id": "j3EsnwK3Dm5k"
      },
      "execution_count": null,
      "outputs": []
    },
    {
      "cell_type": "markdown",
      "source": [
        "### Dados"
      ],
      "metadata": {
        "id": "XLRg21KUu8NC"
      }
    },
    {
      "cell_type": "code",
      "source": [
        "x = np.arange(-5, 5.1, 0.1)\n",
        "#x"
      ],
      "metadata": {
        "id": "xluD0VXwuXP7"
      },
      "execution_count": null,
      "outputs": []
    },
    {
      "cell_type": "code",
      "source": [
        "# y = xˆ2 + 2x +5\n",
        "y = x**2 + 2*x + 5\n",
        "#y"
      ],
      "metadata": {
        "id": "z6O6HQqMuXSc"
      },
      "execution_count": null,
      "outputs": []
    },
    {
      "cell_type": "code",
      "source": [
        "# SHAPE - forma ou formato\n",
        "x.shape, y.shape"
      ],
      "metadata": {
        "colab": {
          "base_uri": "https://localhost:8080/"
        },
        "id": "3i3bA4H6uXVD",
        "outputId": "d0a74928-0d01-4b97-f392-6560ec298197"
      },
      "execution_count": null,
      "outputs": [
        {
          "output_type": "execute_result",
          "data": {
            "text/plain": [
              "((101,), (101,))"
            ]
          },
          "metadata": {},
          "execution_count": 41
        }
      ]
    },
    {
      "cell_type": "code",
      "source": [
        "plt.plot(x, y, \"r--\")\n",
        "plt.title(\"Parábola\")\n",
        "plt.ylim(0, 50)\n",
        "plt.xlim(-6, 6)\n",
        "plt.grid()"
      ],
      "metadata": {
        "colab": {
          "base_uri": "https://localhost:8080/",
          "height": 281
        },
        "id": "Z65B06-DwNne",
        "outputId": "ff69a1af-2afd-4bfb-bdc2-c81232907521"
      },
      "execution_count": null,
      "outputs": [
        {
          "output_type": "display_data",
          "data": {
            "text/plain": [
              "<Figure size 432x288 with 1 Axes>"
            ],
            "image/png": "[encoded data removed]"
          },
          "metadata": {
            "needs_background": "light"
          }
        }
      ]
    },
    {
      "cell_type": "code",
      "source": [
        "plt.figure(figsize = (12,4))\n",
        "plt.subplot(1, 2, 1)\n",
        "plot_graf(x, y, color = \"g.-\", title = \"Função Parábola\")\n",
        "plt.xlabel(\"meses\")\n",
        "\n",
        "plt.subplot(1, 2, 2)\n",
        "plot_graf(x, -y, color = \"c.-\", title = \"Função Parábola Negativa\")\n",
        "plt.xlabel(\"meses\")"
      ],
      "metadata": {
        "colab": {
          "base_uri": "https://localhost:8080/",
          "height": 313
        },
        "id": "tgvybT6cwNqE",
        "outputId": "74db10fe-b237-4bcc-a179-01e46c2a901f"
      },
      "execution_count": null,
      "outputs": [
        {
          "output_type": "execute_result",
          "data": {
            "text/plain": [
              "Text(0.5, 0, 'meses')"
            ]
          },
          "metadata": {},
          "execution_count": 43
        },
        {
          "output_type": "display_data",
          "data": {
            "text/plain": [
              "<Figure size 864x288 with 2 Axes>"
            ],
            "image/png": "[encoded data removed]"
          },
          "metadata": {
            "needs_background": "light"
          }
        }
      ]
    },
    {
      "cell_type": "markdown",
      "source": [
        "### Estatísticas"
      ],
      "metadata": {
        "id": "rUxPsZuB0nig"
      }
    },
    {
      "cell_type": "code",
      "source": [
        "alturas = [172.0, 180.0, 180.0, 178.0, 178.0, 169.0, 165.0, 170.0, 170.0, 171.0, 159.0,\n",
        "            185.0, 169.0]\n",
        "print(alturas)"
      ],
      "metadata": {
        "colab": {
          "base_uri": "https://localhost:8080/"
        },
        "id": "SeoL16sWwNsJ",
        "outputId": "02c9a573-96e6-4303-9a90-aca7f34f1fe2"
      },
      "execution_count": null,
      "outputs": [
        {
          "output_type": "stream",
          "name": "stdout",
          "text": [
            "[172.0, 180.0, 180.0, 178.0, 178.0, 169.0, 165.0, 170.0, 170.0, 171.0, 159.0, 185.0, 169.0]\n"
          ]
        }
      ]
    },
    {
      "cell_type": "code",
      "source": [
        "# Média das alturas\n",
        "\n",
        "media_alturas = np.mean(alturas)\n",
        "print(media_alturas)\n",
        "print(\"A média das alturas da turma é: {:.2f}\".format(media_alturas))"
      ],
      "metadata": {
        "colab": {
          "base_uri": "https://localhost:8080/"
        },
        "id": "MV2Sf_jE1etO",
        "outputId": "210da5c7-d210-4db4-a457-8a24b11b91ff"
      },
      "execution_count": null,
      "outputs": [
        {
          "output_type": "stream",
          "name": "stdout",
          "text": [
            "172.76923076923077\n",
            "A média das alturas da turma é: 172.77\n"
          ]
        }
      ]
    },
    {
      "cell_type": "code",
      "source": [
        "# Plotando o Histograma das Alturas\n",
        "plt.hist(alturas)\n",
        "plt.xlabel(\"A média das alturas da turma é: {:.2f}\".format(media_alturas))\n",
        "plt.show()"
      ],
      "metadata": {
        "colab": {
          "base_uri": "https://localhost:8080/",
          "height": 279
        },
        "id": "6C1gd0tY1exX",
        "outputId": "0508b771-e091-4c9c-d68b-3d5362cfa329"
      },
      "execution_count": null,
      "outputs": [
        {
          "output_type": "display_data",
          "data": {
            "text/plain": [
              "<Figure size 432x288 with 1 Axes>"
            ],
            "image/png": "[encoded data removed]"
          },
          "metadata": {
            "needs_background": "light"
          }
        }
      ]
    },
    {
      "cell_type": "code",
      "source": [
        "# Calcular a Mediana\n",
        "len(alturas)"
      ],
      "metadata": {
        "colab": {
          "base_uri": "https://localhost:8080/"
        },
        "id": "mnpeSLFs3YIB",
        "outputId": "b2eaa01d-ec34-4831-fe83-d53740721052"
      },
      "execution_count": null,
      "outputs": [
        {
          "output_type": "execute_result",
          "data": {
            "text/plain": [
              "13"
            ]
          },
          "metadata": {},
          "execution_count": 62
        }
      ]
    },
    {
      "cell_type": "code",
      "source": [
        "mediana_alturas = np.median(alturas)\n",
        "print(mediana_alturas)"
      ],
      "metadata": {
        "colab": {
          "base_uri": "https://localhost:8080/"
        },
        "id": "TjKMIPvi4uvF",
        "outputId": "7c7f9f88-5df5-462f-bd45-b3108d01ac0a"
      },
      "execution_count": null,
      "outputs": [
        {
          "output_type": "stream",
          "name": "stdout",
          "text": [
            "171.0\n"
          ]
        }
      ]
    },
    {
      "cell_type": "code",
      "source": [
        "print(\"A média das alturas é: {:.2f}, a mediana das alturas {}\".format(media_alturas, mediana_alturas))"
      ],
      "metadata": {
        "colab": {
          "base_uri": "https://localhost:8080/"
        },
        "id": "AIiuj2Y24uxg",
        "outputId": "5628942f-3470-4aab-8f21-d35d4dff30de"
      },
      "execution_count": null,
      "outputs": [
        {
          "output_type": "stream",
          "name": "stdout",
          "text": [
            "A média das alturas é: 172.77, a mediana das alturas 171.0\n"
          ]
        }
      ]
    },
    {
      "cell_type": "code",
      "source": [
        "plt.hist(alturas, color = \"r\")\n",
        "plt.title(\"Histograma das alturas da turma LG\", fontsize = 14, loc = \"left\")\n",
        "plt.xlabel(\"A média das alturas é: {:.2f}, a mediana das alturas {}\".format(media_alturas, mediana_alturas))\n",
        "plt.show()"
      ],
      "metadata": {
        "colab": {
          "base_uri": "https://localhost:8080/",
          "height": 296
        },
        "id": "ATBt6JXR5xJ1",
        "outputId": "f4492698-9fec-458c-9b60-ad57fa7aebed"
      },
      "execution_count": null,
      "outputs": [
        {
          "output_type": "display_data",
          "data": {
            "text/plain": [
              "<Figure size 432x288 with 1 Axes>"
            ],
            "image/png": "[encoded data removed]"
          },
          "metadata": {
            "needs_background": "light"
          }
        }
      ]
    },
    {
      "cell_type": "markdown",
      "source": [
        "### Boxplot"
      ],
      "metadata": {
        "id": "YxbeIuqc_ijR"
      }
    },
    {
      "cell_type": "code",
      "source": [
        "# Criar um boxplot\n",
        "plt.boxplot(alturas)\n",
        "plt.title(\"Boxplot das alturas\")\n",
        "plt.xlabel(\"A média é: {:.2f}\".format(media_alturas))\n",
        "plt.show()"
      ],
      "metadata": {
        "colab": {
          "base_uri": "https://localhost:8080/",
          "height": 295
        },
        "id": "YtEieAUG6AQt",
        "outputId": "1f656f12-60ce-4c31-9421-b83fe541c8bc"
      },
      "execution_count": null,
      "outputs": [
        {
          "output_type": "display_data",
          "data": {
            "text/plain": [
              "<Figure size 432x288 with 1 Axes>"
            ],
            "image/png": "[encoded data removed]"
          },
          "metadata": {
            "needs_background": "light"
          }
        }
      ]
    },
    {
      "cell_type": "code",
      "source": [
        "maximo = np.max(alturas)\n",
        "print(maximo)"
      ],
      "metadata": {
        "colab": {
          "base_uri": "https://localhost:8080/"
        },
        "id": "_yqwKolJ_gjT",
        "outputId": "c3da6baa-2a49-437d-81c8-cb825fd4cc89"
      },
      "execution_count": null,
      "outputs": [
        {
          "output_type": "stream",
          "name": "stdout",
          "text": [
            "185.0\n"
          ]
        }
      ]
    },
    {
      "cell_type": "code",
      "source": [
        "minimo = np.min(alturas)\n",
        "print(minimo)"
      ],
      "metadata": {
        "colab": {
          "base_uri": "https://localhost:8080/"
        },
        "id": "QhxJlKxd_glv",
        "outputId": "8eaa0e29-2eb5-446f-f271-2b313e5346b0"
      },
      "execution_count": null,
      "outputs": [
        {
          "output_type": "stream",
          "name": "stdout",
          "text": [
            "159.0\n"
          ]
        }
      ]
    },
    {
      "cell_type": "code",
      "source": [
        ""
      ],
      "metadata": {
        "id": "H1yfOemq_goW"
      },
      "execution_count": null,
      "outputs": []
    }
  ]
}